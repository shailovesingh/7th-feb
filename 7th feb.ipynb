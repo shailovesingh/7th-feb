{
 "cells": [
  {
   "cell_type": "code",
   "execution_count": 1,
   "id": "287ad673-1807-4f6b-bf95-40aa2b08c89c",
   "metadata": {},
   "outputs": [],
   "source": [
    "#Q1\n",
    "\n",
    "def check():\n",
    "    \n",
    "    password = input(\"Enter the password\")\n",
    "    pswd1 = 0\n",
    "    pswd2 = 0\n",
    "    pswd3 = 0\n",
    "    pswd4 = 0\n",
    "    pswd5 = 0\n",
    "    l1 = []\n",
    "    l2 = []\n",
    "    l3 = []\n",
    "    l4 = []\n",
    "    \n",
    "    for i in password:\n",
    "        \n",
    "        if i.isupper():\n",
    "            l1.append(i)\n",
    "            if len(l1) >= 2:\n",
    "                pswd1 = 1\n",
    "        if i.islower():\n",
    "            l2.append(i)\n",
    "            if len(l2)>=2:\n",
    "                pswd2 = 1\n",
    "        \n",
    "        if i == '@' or i == '#' or i == '$':\n",
    "            l3.append(i)\n",
    "            if len(l3) >= 3:\n",
    "                pswd3 = 1\n",
    "                \n",
    "        if len(password)>=10:\n",
    "            pswd4 = 1\n",
    "            \n",
    "        if i == '0' or i == '1' or i == '2' or i == '3' or i == '4' or i == '5' or i == '6' or i == '7' or i == '8':\n",
    "            l4.append(i)\n",
    "            if len(l4) >= 1:\n",
    "                pswd5 = 1\n",
    "                \n",
    "    if pswd1 == 1 and pswd2 == 1 and pswd3 == 1 and pswd4 == 1 and pswd5 == 1:\n",
    "        print(\"valid pssword\")\n",
    "    else:\n",
    "        print(\"invalid password\")"
   ]
  },
  {
   "cell_type": "code",
   "execution_count": 2,
   "id": "6f434bfe-d03e-4f19-8dc3-bee0b4712b81",
   "metadata": {},
   "outputs": [
    {
     "name": "stdin",
     "output_type": "stream",
     "text": [
      "Enter the password Shailove787\n"
     ]
    },
    {
     "name": "stdout",
     "output_type": "stream",
     "text": [
      "invalid password\n"
     ]
    }
   ],
   "source": [
    "a = check()"
   ]
  },
  {
   "cell_type": "markdown",
   "id": "b48e14b2-7dac-4865-a3e6-d9948742f790",
   "metadata": {},
   "source": [
    "Q2"
   ]
  },
  {
   "cell_type": "markdown",
   "id": "9fa10568-a1cf-4483-8ae6-70a0d2c20dd8",
   "metadata": {},
   "source": [
    "Check if the string starts with a particular letterY"
   ]
  },
  {
   "cell_type": "code",
   "execution_count": 5,
   "id": "babe5834-667b-41d1-8019-f7671d0a99b8",
   "metadata": {},
   "outputs": [],
   "source": [
    "s1 = \"pwskills\"\n",
    "a = lambda s : True if s.startswith(\"p\")else False"
   ]
  },
  {
   "cell_type": "code",
   "execution_count": 6,
   "id": "e02c4bf7-6767-4cea-bc64-ef6b084b8eb7",
   "metadata": {},
   "outputs": [
    {
     "data": {
      "text/plain": [
       "True"
      ]
     },
     "execution_count": 6,
     "metadata": {},
     "output_type": "execute_result"
    }
   ],
   "source": [
    "a(s1)"
   ]
  },
  {
   "cell_type": "markdown",
   "id": "85a92069-827f-46f6-bd89-2145c35e9eee",
   "metadata": {},
   "source": [
    "Check if the string is numericY"
   ]
  },
  {
   "cell_type": "code",
   "execution_count": 7,
   "id": "822697aa-ed31-45b2-acf6-c01f9b80786b",
   "metadata": {},
   "outputs": [],
   "source": [
    "s1 = \"shailove_1\"\n",
    "b = lambda s1 : True if s1.isnumeric() else False"
   ]
  },
  {
   "cell_type": "code",
   "execution_count": 8,
   "id": "8fb8b19b-4eb8-4168-b058-7321f4b85df0",
   "metadata": {},
   "outputs": [
    {
     "data": {
      "text/plain": [
       "False"
      ]
     },
     "execution_count": 8,
     "metadata": {},
     "output_type": "execute_result"
    }
   ],
   "source": [
    "b(s1)"
   ]
  },
  {
   "cell_type": "markdown",
   "id": "7af7947b-d5e3-4a73-a6a7-1c3543a6561f",
   "metadata": {},
   "source": [
    "Sort a list of tuples having fruit names and their quantity. [(\"mango\",99),(\"orange\",80), (\"grapes\", 1000)"
   ]
  },
  {
   "cell_type": "code",
   "execution_count": 9,
   "id": "12e79d95-d7d2-4d9a-acc0-6d9a341d82ad",
   "metadata": {},
   "outputs": [],
   "source": [
    "list1 = [(\"mango\",99),(\"orange\",80), (\"grapes\", 1000)]"
   ]
  },
  {
   "cell_type": "code",
   "execution_count": 11,
   "id": "919e2b58-3222-4505-b9b8-c27a83ef23c4",
   "metadata": {},
   "outputs": [],
   "source": [
    "c = lambda x : x.sort(key=lambda item:item[0])\n",
    "c(list1)"
   ]
  },
  {
   "cell_type": "code",
   "execution_count": 12,
   "id": "4e5eaa8e-56e8-4072-a63a-d00be3db22ea",
   "metadata": {},
   "outputs": [
    {
     "data": {
      "text/plain": [
       "[('grapes', 1000), ('mango', 99), ('orange', 80)]"
      ]
     },
     "execution_count": 12,
     "metadata": {},
     "output_type": "execute_result"
    }
   ],
   "source": [
    "list1"
   ]
  },
  {
   "cell_type": "markdown",
   "id": "700a3c00-876d-4501-a863-d6301e6c6901",
   "metadata": {},
   "source": [
    "Find the squares of numbers from 1 to 10"
   ]
  },
  {
   "cell_type": "code",
   "execution_count": 2,
   "id": "b41abcdd-7310-42c1-a41f-66c39dcb5b0b",
   "metadata": {},
   "outputs": [
    {
     "data": {
      "text/plain": [
       "[1, 4, 9, 16, 25, 36, 49, 64, 81, 100]"
      ]
     },
     "execution_count": 2,
     "metadata": {},
     "output_type": "execute_result"
    }
   ],
   "source": [
    "num = range(1,11)\n",
    "list(map(lambda x : x**2,num))"
   ]
  },
  {
   "cell_type": "markdown",
   "id": "26489203-0b2a-40da-a5f9-787889012b82",
   "metadata": {},
   "source": [
    "Find the cube root of numbers from 1 to 10"
   ]
  },
  {
   "cell_type": "code",
   "execution_count": 4,
   "id": "5357779e-0d26-487d-91a4-5fe22458fee9",
   "metadata": {},
   "outputs": [
    {
     "data": {
      "text/plain": [
       "[1, 8, 27, 64, 125, 216, 343, 512, 729, 1000]"
      ]
     },
     "execution_count": 4,
     "metadata": {},
     "output_type": "execute_result"
    }
   ],
   "source": [
    "num1 = range(1,11)\n",
    "list(map(lambda x : x**3,num1))"
   ]
  },
  {
   "cell_type": "markdown",
   "id": "bbd41e76-4d47-40da-99af-0e67913d1ff0",
   "metadata": {},
   "source": [
    "Check if a given number is even"
   ]
  },
  {
   "cell_type": "code",
   "execution_count": 15,
   "id": "d7f65f58-6369-494a-89e3-bfbcb6b9563e",
   "metadata": {},
   "outputs": [],
   "source": [
    "number = 50\n",
    "c = lambda x : True if x%2 == 0 else False"
   ]
  },
  {
   "cell_type": "code",
   "execution_count": 16,
   "id": "0bf2c459-2e5f-4886-b10d-f2d259798dfc",
   "metadata": {},
   "outputs": [
    {
     "data": {
      "text/plain": [
       "True"
      ]
     },
     "execution_count": 16,
     "metadata": {},
     "output_type": "execute_result"
    }
   ],
   "source": [
    "c(number)"
   ]
  },
  {
   "cell_type": "markdown",
   "id": "49584fbe-0533-4403-ba66-111af3d702ef",
   "metadata": {},
   "source": [
    "Filter odd numbers from the given list.\n",
    "[1,2,3,4,5,6,7,8,9,10]"
   ]
  },
  {
   "cell_type": "code",
   "execution_count": 17,
   "id": "da19ecae-91db-4f61-95bc-b116c5d9f751",
   "metadata": {},
   "outputs": [
    {
     "data": {
      "text/plain": [
       "[1, 3, 5, 7, 9]"
      ]
     },
     "execution_count": 17,
     "metadata": {},
     "output_type": "execute_result"
    }
   ],
   "source": [
    "lst2 = [1,2,3,4,5,6,7,8,9,10]\n",
    "list(filter(lambda x : x%2 == 1,lst2))"
   ]
  },
  {
   "cell_type": "markdown",
   "id": "ba5d35f9-55f1-4cf9-a612-a5e5c4ca7306",
   "metadata": {},
   "source": [
    "Sort a list of integers into positive and negative integers lists.\n",
    "[1,2,3,4,5,6,-1,-2,-3,-4,-5,0]"
   ]
  },
  {
   "cell_type": "code",
   "execution_count": 18,
   "id": "bf622d1f-5eff-4703-9b4a-00967b94e9b3",
   "metadata": {},
   "outputs": [],
   "source": [
    "lst3 = [1,2,3,4,5,6,-1,-2,-3,-4,-5,0]"
   ]
  },
  {
   "cell_type": "code",
   "execution_count": 19,
   "id": "cded44b2-359c-49fa-91bc-30cefe7d580d",
   "metadata": {},
   "outputs": [],
   "source": [
    "lst_pst = [i for i in lst3 if i>0]"
   ]
  },
  {
   "cell_type": "code",
   "execution_count": 21,
   "id": "d4920f14-022e-4fef-97ec-927151a2dd9a",
   "metadata": {},
   "outputs": [
    {
     "data": {
      "text/plain": [
       "[1, 2, 3, 4, 5, 6]"
      ]
     },
     "execution_count": 21,
     "metadata": {},
     "output_type": "execute_result"
    }
   ],
   "source": [
    "lst_pst"
   ]
  },
  {
   "cell_type": "code",
   "execution_count": 22,
   "id": "ad3277a5-5ab7-4bec-8e4e-928d1eb67e43",
   "metadata": {},
   "outputs": [],
   "source": [
    "lst_neg = [i for i in lst3 if i<0]"
   ]
  },
  {
   "cell_type": "code",
   "execution_count": 23,
   "id": "5efab20c-6935-420d-96c8-65d22e218323",
   "metadata": {},
   "outputs": [
    {
     "data": {
      "text/plain": [
       "[-1, -2, -3, -4, -5]"
      ]
     },
     "execution_count": 23,
     "metadata": {},
     "output_type": "execute_result"
    }
   ],
   "source": [
    "lst_neg"
   ]
  },
  {
   "cell_type": "code",
   "execution_count": null,
   "id": "3085c06b-c2dc-4a3a-bce5-178d0c59639d",
   "metadata": {},
   "outputs": [],
   "source": []
  }
 ],
 "metadata": {
  "kernelspec": {
   "display_name": "Python 3 (ipykernel)",
   "language": "python",
   "name": "python3"
  },
  "language_info": {
   "codemirror_mode": {
    "name": "ipython",
    "version": 3
   },
   "file_extension": ".py",
   "mimetype": "text/x-python",
   "name": "python",
   "nbconvert_exporter": "python",
   "pygments_lexer": "ipython3",
   "version": "3.10.8"
  }
 },
 "nbformat": 4,
 "nbformat_minor": 5
}
